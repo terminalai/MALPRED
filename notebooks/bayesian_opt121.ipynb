{
 "cells": [
  {
   "cell_type": "code",
   "execution_count": 1,
   "id": "a3bbfbb9",
   "metadata": {
    "id": "a3bbfbb9"
   },
   "outputs": [],
   "source": [
    "import pandas as pd\n",
    "from sklearn.model_selection import StratifiedKFold\n",
    "\n",
    "dtypes = {\n",
    "        'MachineIdentifier':                                    'str',\n",
    "        'ProductName':                                          'category',\n",
    "        'EngineVersion':                                        'category',\n",
    "        'AppVersion':                                           'category',\n",
    "        'AvSigVersion':                                         'category',\n",
    "        'IsBeta':                                               'int8',\n",
    "        'RtpStateBitfield':                                     'float16',\n",
    "        'IsSxsPassiveMode':                                     'int8',\n",
    "        'DefaultBrowsersIdentifier':                            'float16',\n",
    "        'AVProductStatesIdentifier':                            'float32',\n",
    "        'AVProductsInstalled':                                  'float16',\n",
    "        'AVProductsEnabled':                                    'float16',\n",
    "        'HasTpm':                                               'int8',\n",
    "        'CountryIdentifier':                                    'int32',\n",
    "        'CityIdentifier':                                       'float32',\n",
    "        'OrganizationIdentifier':                               'float16',\n",
    "        'GeoNameIdentifier':                                    'float32',\n",
    "        'LocaleEnglishNameIdentifier':                          'int32',\n",
    "        'Platform':                                             'category',\n",
    "        'Processor':                                            'category',\n",
    "        'OsVer':                                                'category',\n",
    "        'OsBuild':                                              'int16',\n",
    "        'OsSuite':                                              'int16',\n",
    "        'OsPlatformSubRelease':                                 'category',\n",
    "        'OsBuildLab':                                           'category',\n",
    "        'SkuEdition':                                           'category',\n",
    "        'IsProtected':                                          'float16',\n",
    "        'AutoSampleOptIn':                                      'int8',\n",
    "        'PuaMode':                                              'category',\n",
    "        'SMode':                                                'float16',\n",
    "        'IeVerIdentifier':                                      'float32',\n",
    "        'SmartScreen':                                          'category',\n",
    "        'Firewall':                                             'float16',\n",
    "        'UacLuaenable':                                         'float64',\n",
    "        'Census_MDC2FormFactor':                                'category',\n",
    "        'Census_DeviceFamily':                                  'category',\n",
    "        'Census_OEMNameIdentifier':                             'float32',\n",
    "        'Census_OEMModelIdentifier':                            'float32',\n",
    "        'Census_ProcessorCoreCount':                            'float16',\n",
    "        'Census_ProcessorManufacturerIdentifier':               'float16',\n",
    "        'Census_ProcessorModelIdentifier':                      'float32',\n",
    "        'Census_ProcessorClass':                                'category',\n",
    "        'Census_PrimaryDiskTotalCapacity':                      'float32',\n",
    "        'Census_PrimaryDiskTypeName':                           'category',\n",
    "        'Census_SystemVolumeTotalCapacity':                     'float32',\n",
    "        'Census_HasOpticalDiskDrive':                           'int8',\n",
    "        'Census_TotalPhysicalRAM':                              'float32',\n",
    "        'Census_ChassisTypeName':                               'category',\n",
    "        'Census_InternalPrimaryDiagonalDisplaySizeInInches':    'float32',\n",
    "        'Census_InternalPrimaryDisplayResolutionHorizontal':    'float32',\n",
    "        'Census_InternalPrimaryDisplayResolutionVertical':      'float32',\n",
    "        'Census_PowerPlatformRoleName':                         'category',\n",
    "        'Census_InternalBatteryType':                           'category',\n",
    "        'Census_InternalBatteryNumberOfCharges':                'float32',\n",
    "        'Census_OSVersion':                                     'category',\n",
    "        'Census_OSArchitecture':                                'category',\n",
    "        'Census_OSBranch':                                      'category',\n",
    "        'Census_OSBuildNumber':                                 'int32',\n",
    "        'Census_OSBuildRevision':                               'int32',\n",
    "        'Census_OSEdition':                                     'category',\n",
    "        'Census_OSSkuName':                                     'category',\n",
    "        'Census_OSInstallTypeName':                             'category',\n",
    "        'Census_OSInstallLanguageIdentifier':                   'float16',\n",
    "        'Census_OSUILocaleIdentifier':                          'int32',\n",
    "        'Census_OSWUAutoUpdateOptionsName':                     'category',\n",
    "        'Census_IsPortableOperatingSystem':                     'int8',\n",
    "        'Census_GenuineStateName':                              'category',\n",
    "        'Census_ActivationChannel':                             'category',\n",
    "        'Census_IsFlightingInternal':                           'float16',\n",
    "        'Census_IsFlightsDisabled':                             'float16',\n",
    "        'Census_FlightRing':                                    'category',\n",
    "        'Census_ThresholdOptIn':                                'float16',\n",
    "        'Census_FirmwareManufacturerIdentifier':                'float32',\n",
    "        'Census_FirmwareVersionIdentifier':                     'float32',\n",
    "        'Census_IsSecureBootEnabled':                           'int8',\n",
    "        'Census_IsWIMBootEnabled':                              'float16',\n",
    "        'Census_IsVirtualDevice':                               'float16',\n",
    "        'Census_IsTouchEnabled':                                'int8',\n",
    "        'Census_IsPenCapable':                                  'int8',\n",
    "        'Census_IsAlwaysOnAlwaysConnectedCapable':              'float16',\n",
    "        'Wdft_IsGamer':                                         'float16',\n",
    "        'Wdft_RegionIdentifier':                                'float32',\n",
    "        'HasDetections':                                        'int8'\n",
    "    }\n",
    "\n",
    "malware = pd.read_csv('train.csv',dtype=dtypes)\n",
    "skf = StratifiedKFold(n_splits=5, shuffle=True, random_state=1)"
   ]
  },
  {
   "cell_type": "code",
   "execution_count": 2,
   "id": "eff63ac5",
   "metadata": {},
   "outputs": [
    {
     "name": "stderr",
     "output_type": "stream",
     "text": [
      "/tmp/ipykernel_23026/2952807607.py:5: DeprecationWarning: In a future version, `df.iloc[:, i] = newvals` will attempt to set the values inplace instead of always setting a new array. To retain the old behavior, use either `df[df.columns[i]] = newvals` or, if columns are non-unique, `df.isetitem(i, newvals)`\n",
      "  malware.loc[:, ['OsBuildLab1','OsBuildLab2', 'OsBuildLab3', 'OsBuildLab4']] = malware.loc[:, ['OsBuildLab1','OsBuildLab2', 'OsBuildLab3', 'OsBuildLab4']].astype('category')\n"
     ]
    }
   ],
   "source": [
    "malware[['OsBuildLab0', 'OsBuildLab1','OsBuildLab2', 'OsBuildLab3', 'OsBuildLab4']] = malware.loc[:, 'OsBuildLab'].str.split('.', expand=True)\n",
    "malware.loc[:, 'OsBuildLab0'] = malware['OsBuildLab0'].astype(str)\n",
    "malware.loc[malware['OsBuildLab0'] == 'nan', 'OsBuildLab0']  = 0\n",
    "malware['OsBuildLab0'] = malware['OsBuildLab0'].astype(int)\n",
    "malware.loc[:, ['OsBuildLab1','OsBuildLab2', 'OsBuildLab3', 'OsBuildLab4']] = malware.loc[:, ['OsBuildLab1','OsBuildLab2', 'OsBuildLab3', 'OsBuildLab4']].astype('category')\n",
    " "
   ]
  },
  {
   "cell_type": "code",
   "execution_count": 3,
   "id": "acfbb290",
   "metadata": {},
   "outputs": [],
   "source": [
    "malware['AvSigVersion'] = malware['AvSigVersion'].astype(str)\n",
    "malware.loc[malware.AvSigVersion.str.contains('2&#x17;3'),'AvSigVersion'] = '1.2173.1144.0'"
   ]
  },
  {
   "cell_type": "code",
   "execution_count": 4,
   "id": "ff547c67",
   "metadata": {},
   "outputs": [],
   "source": [
    "malware[['Census_OSVersion0', 'Census_OSVersion1','Census_OSVersion2', 'Census_OSVersion3']] = malware.loc[:, 'Census_OSVersion'].str.split('.', expand=True)"
   ]
  },
  {
   "cell_type": "code",
   "execution_count": 5,
   "id": "25d13fa5",
   "metadata": {},
   "outputs": [],
   "source": [
    "malware[['AvSigVersion0', 'AvSigVersion1','AvSigVersion2', 'AvSigVersion3']] = malware.loc[:, 'AvSigVersion'].str.split('.', expand=True)\n",
    "malware[['AppVersion0', 'AppVersion1','AppVersion2', 'AppVersion3']] = malware.loc[:, 'AppVersion'].str.split('.', expand=True)\n",
    "malware[['EngineVersion0', 'EngineVersion1','EngineVersion2', 'EngineVersion3']] = malware.loc[:, 'EngineVersion'].str.split('.', expand=True)"
   ]
  },
  {
   "cell_type": "code",
   "execution_count": 6,
   "id": "54d25362",
   "metadata": {},
   "outputs": [],
   "source": [
    "malware.loc[5244810, ['AvSigVersion0', 'AvSigVersion1' ,'AvSigVersion2', 'AvSigVersion3']] = [0,0,0,0]"
   ]
  },
  {
   "cell_type": "code",
   "execution_count": 7,
   "id": "cbe27db8",
   "metadata": {},
   "outputs": [
    {
     "name": "stderr",
     "output_type": "stream",
     "text": [
      "/tmp/ipykernel_23026/2486403323.py:1: DeprecationWarning: In a future version, `df.iloc[:, i] = newvals` will attempt to set the values inplace instead of always setting a new array. To retain the old behavior, use either `df[df.columns[i]] = newvals` or, if columns are non-unique, `df.isetitem(i, newvals)`\n",
      "  malware.iloc[:, -16:] = malware.iloc[:, -16:].astype(int)\n"
     ]
    }
   ],
   "source": [
    "malware.iloc[:, -16:] = malware.iloc[:, -16:].astype(int)"
   ]
  },
  {
   "cell_type": "code",
   "execution_count": 8,
   "id": "a5db6c51",
   "metadata": {},
   "outputs": [],
   "source": [
    "def remove_columns(data):\n",
    "    \"\"\"\n",
    "    Computing percent of null values in a dataset based on the feature and removing those features having 70 or more than 70 percent of null values\n",
    "    \"\"\"\n",
    "    columns_to_be_removed = []\n",
    "    percent = (data.isnull().sum()/data.shape[0]) * 100\n",
    "\n",
    "    for col in data.columns:\n",
    "        if percent.loc[col] >= 70:\n",
    "            columns_to_be_removed.append(col)\n",
    "    new_data = data.drop(columns=columns_to_be_removed)\n",
    "  \n",
    "    return new_data"
   ]
  },
  {
   "cell_type": "code",
   "execution_count": 9,
   "id": "38ef244c",
   "metadata": {},
   "outputs": [],
   "source": [
    "malware = remove_columns(malware)"
   ]
  },
  {
   "cell_type": "code",
   "execution_count": 10,
   "id": "3834fb6f",
   "metadata": {},
   "outputs": [],
   "source": [
    "from sklearn.model_selection import train_test_split\n",
    "_, malware = train_test_split(malware,\n",
    "                              stratify=malware['HasDetections'], \n",
    "                              test_size=0.1)"
   ]
  },
  {
   "cell_type": "code",
   "execution_count": 11,
   "id": "d1a32a55",
   "metadata": {},
   "outputs": [],
   "source": [
    "import re\n",
    "malware = malware.rename(columns = lambda x:re.sub('[^A-Za-z0-9_]+', '', x))"
   ]
  },
  {
   "cell_type": "code",
   "execution_count": 12,
   "id": "e5411503",
   "metadata": {
    "id": "e5411503",
    "scrolled": false
   },
   "outputs": [
    {
     "name": "stderr",
     "output_type": "stream",
     "text": [
      "[LightGBM] [Fatal] GPU Tree Learner was not enabled in this build.\n",
      "Please recompile with CMake option -DUSE_GPU=1\n",
      "[LightGBM] [Fatal] Unknown device type cuda\n",
      "[LightGBM] [Fatal] Unknown device type cuda\n",
      "[LightGBM] [Fatal] GPU Tree Learner was not enabled in this build.\n",
      "Please recompile with CMake option -DUSE_GPU=1\n",
      "[LightGBM] [Fatal] Unknown device type cuda\n",
      "[LightGBM] [Fatal] Unknown device type cuda\n",
      "[LightGBM] [Fatal] GPU Tree Learner was not enabled in this build.\n",
      "Please recompile with CMake option -DUSE_GPU=1\n",
      "[LightGBM] [Fatal] Unknown device type cuda\n",
      "[LightGBM] [Fatal] Unknown device type cuda\n",
      "[LightGBM] [Fatal] GPU Tree Learner was not enabled in this build.\n",
      "Please recompile with CMake option -DUSE_GPU=1\n",
      "[LightGBM] [Fatal] Unknown device type cuda\n",
      "[LightGBM] [Fatal] Unknown device type cuda\n",
      "[LightGBM] [Fatal] GPU Tree Learner was not enabled in this build.\n",
      "Please recompile with CMake option -DUSE_GPU=1\n",
      "[LightGBM] [Fatal] Unknown device type cuda\n",
      "[LightGBM] [Fatal] Unknown device type cuda\n",
      "[LightGBM] [Fatal] GPU Tree Learner was not enabled in this build.\n",
      "Please recompile with CMake option -DUSE_GPU=1\n",
      "[LightGBM] [Fatal] Unknown device type cuda\n",
      "[LightGBM] [Fatal] Unknown device type cuda\n",
      "[LightGBM] [Fatal] GPU Tree Learner was not enabled in this build.\n",
      "Please recompile with CMake option -DUSE_GPU=1\n",
      "[LightGBM] [Fatal] Unknown device type cuda\n",
      "[LightGBM] [Fatal] Unknown device type cuda\n"
     ]
    },
    {
     "data": {
      "text/html": [
       "<style type=\"text/css\">\n",
       "#T_e0cf2_row11_col1, #T_e0cf2_row18_col1, #T_e0cf2_row20_col1, #T_e0cf2_row22_col1, #T_e0cf2_row29_col1 {\n",
       "  background-color: lightgreen;\n",
       "}\n",
       "</style>\n",
       "<table id=\"T_e0cf2\">\n",
       "  <thead>\n",
       "    <tr>\n",
       "      <th class=\"blank level0\" >&nbsp;</th>\n",
       "      <th id=\"T_e0cf2_level0_col0\" class=\"col_heading level0 col0\" >Description</th>\n",
       "      <th id=\"T_e0cf2_level0_col1\" class=\"col_heading level0 col1\" >Value</th>\n",
       "    </tr>\n",
       "  </thead>\n",
       "  <tbody>\n",
       "    <tr>\n",
       "      <th id=\"T_e0cf2_level0_row0\" class=\"row_heading level0 row0\" >0</th>\n",
       "      <td id=\"T_e0cf2_row0_col0\" class=\"data row0 col0\" >Session id</td>\n",
       "      <td id=\"T_e0cf2_row0_col1\" class=\"data row0 col1\" >6540</td>\n",
       "    </tr>\n",
       "    <tr>\n",
       "      <th id=\"T_e0cf2_level0_row1\" class=\"row_heading level0 row1\" >1</th>\n",
       "      <td id=\"T_e0cf2_row1_col0\" class=\"data row1 col0\" >Target</td>\n",
       "      <td id=\"T_e0cf2_row1_col1\" class=\"data row1 col1\" >HasDetections</td>\n",
       "    </tr>\n",
       "    <tr>\n",
       "      <th id=\"T_e0cf2_level0_row2\" class=\"row_heading level0 row2\" >2</th>\n",
       "      <td id=\"T_e0cf2_row2_col0\" class=\"data row2 col0\" >Target type</td>\n",
       "      <td id=\"T_e0cf2_row2_col1\" class=\"data row2 col1\" >Binary</td>\n",
       "    </tr>\n",
       "    <tr>\n",
       "      <th id=\"T_e0cf2_level0_row3\" class=\"row_heading level0 row3\" >3</th>\n",
       "      <td id=\"T_e0cf2_row3_col0\" class=\"data row3 col0\" >Original data shape</td>\n",
       "      <td id=\"T_e0cf2_row3_col1\" class=\"data row3 col1\" >(892149, 99)</td>\n",
       "    </tr>\n",
       "    <tr>\n",
       "      <th id=\"T_e0cf2_level0_row4\" class=\"row_heading level0 row4\" >4</th>\n",
       "      <td id=\"T_e0cf2_row4_col0\" class=\"data row4 col0\" >Transformed data shape</td>\n",
       "      <td id=\"T_e0cf2_row4_col1\" class=\"data row4 col1\" >(892149, 41)</td>\n",
       "    </tr>\n",
       "    <tr>\n",
       "      <th id=\"T_e0cf2_level0_row5\" class=\"row_heading level0 row5\" >5</th>\n",
       "      <td id=\"T_e0cf2_row5_col0\" class=\"data row5 col0\" >Transformed train set shape</td>\n",
       "      <td id=\"T_e0cf2_row5_col1\" class=\"data row5 col1\" >(624504, 41)</td>\n",
       "    </tr>\n",
       "    <tr>\n",
       "      <th id=\"T_e0cf2_level0_row6\" class=\"row_heading level0 row6\" >6</th>\n",
       "      <td id=\"T_e0cf2_row6_col0\" class=\"data row6 col0\" >Transformed test set shape</td>\n",
       "      <td id=\"T_e0cf2_row6_col1\" class=\"data row6 col1\" >(267645, 41)</td>\n",
       "    </tr>\n",
       "    <tr>\n",
       "      <th id=\"T_e0cf2_level0_row7\" class=\"row_heading level0 row7\" >7</th>\n",
       "      <td id=\"T_e0cf2_row7_col0\" class=\"data row7 col0\" >Ignore features</td>\n",
       "      <td id=\"T_e0cf2_row7_col1\" class=\"data row7 col1\" >11</td>\n",
       "    </tr>\n",
       "    <tr>\n",
       "      <th id=\"T_e0cf2_level0_row8\" class=\"row_heading level0 row8\" >8</th>\n",
       "      <td id=\"T_e0cf2_row8_col0\" class=\"data row8 col0\" >Numeric features</td>\n",
       "      <td id=\"T_e0cf2_row8_col1\" class=\"data row8 col1\" >66</td>\n",
       "    </tr>\n",
       "    <tr>\n",
       "      <th id=\"T_e0cf2_level0_row9\" class=\"row_heading level0 row9\" >9</th>\n",
       "      <td id=\"T_e0cf2_row9_col0\" class=\"data row9 col0\" >Categorical features</td>\n",
       "      <td id=\"T_e0cf2_row9_col1\" class=\"data row9 col1\" >26</td>\n",
       "    </tr>\n",
       "    <tr>\n",
       "      <th id=\"T_e0cf2_level0_row10\" class=\"row_heading level0 row10\" >10</th>\n",
       "      <td id=\"T_e0cf2_row10_col0\" class=\"data row10 col0\" >Rows with missing values</td>\n",
       "      <td id=\"T_e0cf2_row10_col1\" class=\"data row10 col1\" >79.5%</td>\n",
       "    </tr>\n",
       "    <tr>\n",
       "      <th id=\"T_e0cf2_level0_row11\" class=\"row_heading level0 row11\" >11</th>\n",
       "      <td id=\"T_e0cf2_row11_col0\" class=\"data row11 col0\" >Preprocess</td>\n",
       "      <td id=\"T_e0cf2_row11_col1\" class=\"data row11 col1\" >True</td>\n",
       "    </tr>\n",
       "    <tr>\n",
       "      <th id=\"T_e0cf2_level0_row12\" class=\"row_heading level0 row12\" >12</th>\n",
       "      <td id=\"T_e0cf2_row12_col0\" class=\"data row12 col0\" >Imputation type</td>\n",
       "      <td id=\"T_e0cf2_row12_col1\" class=\"data row12 col1\" >simple</td>\n",
       "    </tr>\n",
       "    <tr>\n",
       "      <th id=\"T_e0cf2_level0_row13\" class=\"row_heading level0 row13\" >13</th>\n",
       "      <td id=\"T_e0cf2_row13_col0\" class=\"data row13 col0\" >Numeric imputation</td>\n",
       "      <td id=\"T_e0cf2_row13_col1\" class=\"data row13 col1\" >mean</td>\n",
       "    </tr>\n",
       "    <tr>\n",
       "      <th id=\"T_e0cf2_level0_row14\" class=\"row_heading level0 row14\" >14</th>\n",
       "      <td id=\"T_e0cf2_row14_col0\" class=\"data row14 col0\" >Categorical imputation</td>\n",
       "      <td id=\"T_e0cf2_row14_col1\" class=\"data row14 col1\" >mode</td>\n",
       "    </tr>\n",
       "    <tr>\n",
       "      <th id=\"T_e0cf2_level0_row15\" class=\"row_heading level0 row15\" >15</th>\n",
       "      <td id=\"T_e0cf2_row15_col0\" class=\"data row15 col0\" >Maximum one-hot encoding</td>\n",
       "      <td id=\"T_e0cf2_row15_col1\" class=\"data row15 col1\" >25</td>\n",
       "    </tr>\n",
       "    <tr>\n",
       "      <th id=\"T_e0cf2_level0_row16\" class=\"row_heading level0 row16\" >16</th>\n",
       "      <td id=\"T_e0cf2_row16_col0\" class=\"data row16 col0\" >Encoding method</td>\n",
       "      <td id=\"T_e0cf2_row16_col1\" class=\"data row16 col1\" >None</td>\n",
       "    </tr>\n",
       "    <tr>\n",
       "      <th id=\"T_e0cf2_level0_row17\" class=\"row_heading level0 row17\" >17</th>\n",
       "      <td id=\"T_e0cf2_row17_col0\" class=\"data row17 col0\" >Low variance threshold</td>\n",
       "      <td id=\"T_e0cf2_row17_col1\" class=\"data row17 col1\" >0.100000</td>\n",
       "    </tr>\n",
       "    <tr>\n",
       "      <th id=\"T_e0cf2_level0_row18\" class=\"row_heading level0 row18\" >18</th>\n",
       "      <td id=\"T_e0cf2_row18_col0\" class=\"data row18 col0\" >Remove multicollinearity</td>\n",
       "      <td id=\"T_e0cf2_row18_col1\" class=\"data row18 col1\" >True</td>\n",
       "    </tr>\n",
       "    <tr>\n",
       "      <th id=\"T_e0cf2_level0_row19\" class=\"row_heading level0 row19\" >19</th>\n",
       "      <td id=\"T_e0cf2_row19_col0\" class=\"data row19 col0\" >Multicollinearity threshold</td>\n",
       "      <td id=\"T_e0cf2_row19_col1\" class=\"data row19 col1\" >0.800000</td>\n",
       "    </tr>\n",
       "    <tr>\n",
       "      <th id=\"T_e0cf2_level0_row20\" class=\"row_heading level0 row20\" >20</th>\n",
       "      <td id=\"T_e0cf2_row20_col0\" class=\"data row20 col0\" >Normalize</td>\n",
       "      <td id=\"T_e0cf2_row20_col1\" class=\"data row20 col1\" >True</td>\n",
       "    </tr>\n",
       "    <tr>\n",
       "      <th id=\"T_e0cf2_level0_row21\" class=\"row_heading level0 row21\" >21</th>\n",
       "      <td id=\"T_e0cf2_row21_col0\" class=\"data row21 col0\" >Normalize method</td>\n",
       "      <td id=\"T_e0cf2_row21_col1\" class=\"data row21 col1\" >zscore</td>\n",
       "    </tr>\n",
       "    <tr>\n",
       "      <th id=\"T_e0cf2_level0_row22\" class=\"row_heading level0 row22\" >22</th>\n",
       "      <td id=\"T_e0cf2_row22_col0\" class=\"data row22 col0\" >Feature selection</td>\n",
       "      <td id=\"T_e0cf2_row22_col1\" class=\"data row22 col1\" >True</td>\n",
       "    </tr>\n",
       "    <tr>\n",
       "      <th id=\"T_e0cf2_level0_row23\" class=\"row_heading level0 row23\" >23</th>\n",
       "      <td id=\"T_e0cf2_row23_col0\" class=\"data row23 col0\" >Feature selection method</td>\n",
       "      <td id=\"T_e0cf2_row23_col1\" class=\"data row23 col1\" >classic</td>\n",
       "    </tr>\n",
       "    <tr>\n",
       "      <th id=\"T_e0cf2_level0_row24\" class=\"row_heading level0 row24\" >24</th>\n",
       "      <td id=\"T_e0cf2_row24_col0\" class=\"data row24 col0\" >Feature selection estimator</td>\n",
       "      <td id=\"T_e0cf2_row24_col1\" class=\"data row24 col1\" >lightgbm</td>\n",
       "    </tr>\n",
       "    <tr>\n",
       "      <th id=\"T_e0cf2_level0_row25\" class=\"row_heading level0 row25\" >25</th>\n",
       "      <td id=\"T_e0cf2_row25_col0\" class=\"data row25 col0\" >Number of features selected</td>\n",
       "      <td id=\"T_e0cf2_row25_col1\" class=\"data row25 col1\" >40</td>\n",
       "    </tr>\n",
       "    <tr>\n",
       "      <th id=\"T_e0cf2_level0_row26\" class=\"row_heading level0 row26\" >26</th>\n",
       "      <td id=\"T_e0cf2_row26_col0\" class=\"data row26 col0\" >Fold Generator</td>\n",
       "      <td id=\"T_e0cf2_row26_col1\" class=\"data row26 col1\" >StratifiedKFold</td>\n",
       "    </tr>\n",
       "    <tr>\n",
       "      <th id=\"T_e0cf2_level0_row27\" class=\"row_heading level0 row27\" >27</th>\n",
       "      <td id=\"T_e0cf2_row27_col0\" class=\"data row27 col0\" >Fold Number</td>\n",
       "      <td id=\"T_e0cf2_row27_col1\" class=\"data row27 col1\" >10</td>\n",
       "    </tr>\n",
       "    <tr>\n",
       "      <th id=\"T_e0cf2_level0_row28\" class=\"row_heading level0 row28\" >28</th>\n",
       "      <td id=\"T_e0cf2_row28_col0\" class=\"data row28 col0\" >CPU Jobs</td>\n",
       "      <td id=\"T_e0cf2_row28_col1\" class=\"data row28 col1\" >-1</td>\n",
       "    </tr>\n",
       "    <tr>\n",
       "      <th id=\"T_e0cf2_level0_row29\" class=\"row_heading level0 row29\" >29</th>\n",
       "      <td id=\"T_e0cf2_row29_col0\" class=\"data row29 col0\" >Use GPU</td>\n",
       "      <td id=\"T_e0cf2_row29_col1\" class=\"data row29 col1\" >True</td>\n",
       "    </tr>\n",
       "    <tr>\n",
       "      <th id=\"T_e0cf2_level0_row30\" class=\"row_heading level0 row30\" >30</th>\n",
       "      <td id=\"T_e0cf2_row30_col0\" class=\"data row30 col0\" >Log Experiment</td>\n",
       "      <td id=\"T_e0cf2_row30_col1\" class=\"data row30 col1\" >MlflowLogger</td>\n",
       "    </tr>\n",
       "    <tr>\n",
       "      <th id=\"T_e0cf2_level0_row31\" class=\"row_heading level0 row31\" >31</th>\n",
       "      <td id=\"T_e0cf2_row31_col0\" class=\"data row31 col0\" >Experiment Name</td>\n",
       "      <td id=\"T_e0cf2_row31_col1\" class=\"data row31 col1\" >clf-default-name</td>\n",
       "    </tr>\n",
       "    <tr>\n",
       "      <th id=\"T_e0cf2_level0_row32\" class=\"row_heading level0 row32\" >32</th>\n",
       "      <td id=\"T_e0cf2_row32_col0\" class=\"data row32 col0\" >USI</td>\n",
       "      <td id=\"T_e0cf2_row32_col1\" class=\"data row32 col1\" >392e</td>\n",
       "    </tr>\n",
       "  </tbody>\n",
       "</table>\n"
      ],
      "text/plain": [
       "<pandas.io.formats.style.Styler at 0x7f41fb177d30>"
      ]
     },
     "metadata": {},
     "output_type": "display_data"
    },
    {
     "name": "stderr",
     "output_type": "stream",
     "text": [
      "[LightGBM] [Fatal] GPU Tree Learner was not enabled in this build.\n",
      "Please recompile with CMake option -DUSE_GPU=1\n",
      "[LightGBM] [Fatal] Unknown device type cuda\n",
      "[LightGBM] [Fatal] Unknown device type cuda\n",
      "[LightGBM] [Fatal] GPU Tree Learner was not enabled in this build.\n",
      "Please recompile with CMake option -DUSE_GPU=1\n",
      "[LightGBM] [Fatal] Unknown device type cuda\n",
      "[LightGBM] [Fatal] Unknown device type cuda\n"
     ]
    }
   ],
   "source": [
    "from pycaret.classification import *\n",
    "clf1 = setup(data = malware, \n",
    "             target = 'HasDetections',\n",
    "             ignore_features=['MachineIdentifier', 'Census_OSVersion0','OsBuildLab','EngineVersion', 'AppVersion', 'AvSigVersion','PuaMode','Census_ProcessorClass','DefaultBrowsersIdentifier','Census_IsFlightingInternal','Census_InternalBatteryType'],\n",
    "             remove_multicollinearity=True, \n",
    "             multicollinearity_threshold=0.8 ,\n",
    "             feature_selection=True,\n",
    "             use_gpu=True,\n",
    "             n_features_to_select=40,\n",
    "             normalize = True,\n",
    "             low_variance_threshold = 0.1, \n",
    "             fold_strategy=skf,\n",
    "             log_experiment = True, \n",
    "             log_plots = True, \n",
    "             log_data = True,\n",
    "             memory=False,\n",
    "            )"
   ]
  },
  {
   "cell_type": "code",
   "execution_count": 13,
   "id": "b34fdf6e",
   "metadata": {
    "id": "b34fdf6e"
   },
   "outputs": [
    {
     "data": {
      "text/html": [],
      "text/plain": [
       "<IPython.core.display.HTML object>"
      ]
     },
     "metadata": {},
     "output_type": "display_data"
    },
    {
     "data": {
      "text/html": [
       "<style type=\"text/css\">\n",
       "#T_61ebf th {\n",
       "  text-align: left;\n",
       "}\n",
       "#T_61ebf_row0_col0 {\n",
       "  text-align: left;\n",
       "}\n",
       "#T_61ebf_row0_col1, #T_61ebf_row0_col2, #T_61ebf_row0_col3, #T_61ebf_row0_col4, #T_61ebf_row0_col5, #T_61ebf_row0_col6, #T_61ebf_row0_col7 {\n",
       "  text-align: left;\n",
       "  background-color: yellow;\n",
       "}\n",
       "#T_61ebf_row0_col8 {\n",
       "  text-align: left;\n",
       "  background-color: yellow;\n",
       "  background-color: lightgrey;\n",
       "}\n",
       "</style>\n",
       "<table id=\"T_61ebf\">\n",
       "  <thead>\n",
       "    <tr>\n",
       "      <th class=\"blank level0\" >&nbsp;</th>\n",
       "      <th id=\"T_61ebf_level0_col0\" class=\"col_heading level0 col0\" >Model</th>\n",
       "      <th id=\"T_61ebf_level0_col1\" class=\"col_heading level0 col1\" >Accuracy</th>\n",
       "      <th id=\"T_61ebf_level0_col2\" class=\"col_heading level0 col2\" >AUC</th>\n",
       "      <th id=\"T_61ebf_level0_col3\" class=\"col_heading level0 col3\" >Recall</th>\n",
       "      <th id=\"T_61ebf_level0_col4\" class=\"col_heading level0 col4\" >Prec.</th>\n",
       "      <th id=\"T_61ebf_level0_col5\" class=\"col_heading level0 col5\" >F1</th>\n",
       "      <th id=\"T_61ebf_level0_col6\" class=\"col_heading level0 col6\" >Kappa</th>\n",
       "      <th id=\"T_61ebf_level0_col7\" class=\"col_heading level0 col7\" >MCC</th>\n",
       "      <th id=\"T_61ebf_level0_col8\" class=\"col_heading level0 col8\" >TT (Sec)</th>\n",
       "    </tr>\n",
       "  </thead>\n",
       "  <tbody>\n",
       "    <tr>\n",
       "      <th id=\"T_61ebf_level0_row0\" class=\"row_heading level0 row0\" >xgboost</th>\n",
       "      <td id=\"T_61ebf_row0_col0\" class=\"data row0 col0\" >Extreme Gradient Boosting</td>\n",
       "      <td id=\"T_61ebf_row0_col1\" class=\"data row0 col1\" >0.6524</td>\n",
       "      <td id=\"T_61ebf_row0_col2\" class=\"data row0 col2\" >0.7150</td>\n",
       "      <td id=\"T_61ebf_row0_col3\" class=\"data row0 col3\" >0.6483</td>\n",
       "      <td id=\"T_61ebf_row0_col4\" class=\"data row0 col4\" >0.6535</td>\n",
       "      <td id=\"T_61ebf_row0_col5\" class=\"data row0 col5\" >0.6509</td>\n",
       "      <td id=\"T_61ebf_row0_col6\" class=\"data row0 col6\" >0.3048</td>\n",
       "      <td id=\"T_61ebf_row0_col7\" class=\"data row0 col7\" >0.3048</td>\n",
       "      <td id=\"T_61ebf_row0_col8\" class=\"data row0 col8\" >28.5760</td>\n",
       "    </tr>\n",
       "  </tbody>\n",
       "</table>\n"
      ],
      "text/plain": [
       "<pandas.io.formats.style.Styler at 0x7f41fdec5c40>"
      ]
     },
     "metadata": {},
     "output_type": "display_data"
    },
    {
     "data": {
      "text/html": [],
      "text/plain": [
       "<IPython.core.display.HTML object>"
      ]
     },
     "metadata": {},
     "output_type": "display_data"
    }
   ],
   "source": [
    "best = compare_models(include = ['xgboost'])"
   ]
  },
  {
   "cell_type": "code",
   "execution_count": 16,
   "id": "6f603b22",
   "metadata": {
    "id": "6f603b22"
   },
   "outputs": [
    {
     "name": "stdout",
     "output_type": "stream",
     "text": [
      "XGBClassifier(base_score=None, booster='gbtree', callbacks=None,\n",
      "              colsample_bylevel=None, colsample_bynode=None,\n",
      "              colsample_bytree=None, early_stopping_rounds=None,\n",
      "              enable_categorical=False, eval_metric=None, feature_types=None,\n",
      "              gamma=None, gpu_id=None, grow_policy=None, importance_type=None,\n",
      "              interaction_constraints=None, learning_rate=None, max_bin=None,\n",
      "              max_cat_threshold=None, max_cat_to_onehot=None,\n",
      "              max_delta_step=None, max_depth=None, max_leaves=None,\n",
      "              min_child_weight=None, missing=nan, monotone_constraints=None,\n",
      "              n_estimators=100, n_jobs=-1, num_parallel_tree=None,\n",
      "              objective='binary:logistic', predictor=None, ...)\n"
     ]
    }
   ],
   "source": [
    "print(best)"
   ]
  },
  {
   "cell_type": "code",
   "execution_count": null,
   "id": "b9howJPEtknW",
   "metadata": {
    "id": "b9howJPEtknW"
   },
   "outputs": [],
   "source": [
    "evaluate_model(best)"
   ]
  },
  {
   "cell_type": "code",
   "execution_count": null,
   "id": "nICHv5estnGK",
   "metadata": {
    "id": "nICHv5estnGK"
   },
   "outputs": [],
   "source": [
    "plot_model(best, plot = 'auc')"
   ]
  },
  {
   "cell_type": "code",
   "execution_count": null,
   "id": "prZUP4q1tqR3",
   "metadata": {
    "id": "prZUP4q1tqR3",
    "scrolled": true
   },
   "outputs": [
    {
     "data": {
      "text/html": [
       "<div class=\"tuneStatus\">\n",
       "  <div style=\"display: flex;flex-direction: row\">\n",
       "    <div style=\"display: flex;flex-direction: column;\">\n",
       "      <h3>Tune Status</h3>\n",
       "      <table>\n",
       "<tbody>\n",
       "<tr><td>Current time:</td><td>2023-06-18 01:33:55</td></tr>\n",
       "<tr><td>Running for: </td><td>00:00:25.26        </td></tr>\n",
       "<tr><td>Memory:      </td><td>29.2/125.8 GiB     </td></tr>\n",
       "</tbody>\n",
       "</table>\n",
       "    </div>\n",
       "    <div class=\"vDivider\"></div>\n",
       "    <div class=\"systemInfo\">\n",
       "      <h3>System Info</h3>\n",
       "      Using HyperBand: num_stopped=0 total_brackets=1<br>Round #0:<br>  Bracket(Max Size (n)=9, Milestone (r)=1, completed=0.0%): {RUNNING: 1} <br>Logical resource usage: 30.0/30 CPUs, 1.0/1 GPUs (0.0/1.0 accelerator_type:RTX)\n",
       "    </div>\n",
       "    \n",
       "  </div>\n",
       "  <div class=\"hDivider\"></div>\n",
       "  <div class=\"trialStatus\">\n",
       "    <h3>Trial Status</h3>\n",
       "    <table>\n",
       "<thead>\n",
       "<tr><th>Trial name                 </th><th>status  </th><th>loc             </th><th style=\"text-align: right;\">         actual_estimator__co\n",
       "lsample_bytree</th><th style=\"text-align: right;\">            actual_estimator__le\n",
       "arning_rate</th><th style=\"text-align: right;\">  actual_estimator__ma\n",
       "x_depth</th><th style=\"text-align: right;\">  actual_estimator__mi\n",
       "n_child_weight</th><th style=\"text-align: right;\">   actual_estimator__n_\n",
       "estimators</th><th style=\"text-align: right;\">            actual_estimator__re\n",
       "g_alpha</th><th style=\"text-align: right;\">            actual_estimator__re\n",
       "g_lambda</th><th style=\"text-align: right;\">        actual_estimator__sc\n",
       "ale_pos_weight</th><th style=\"text-align: right;\">         actual_estimator__su\n",
       "bsample</th></tr>\n",
       "</thead>\n",
       "<tbody>\n",
       "<tr><td>_PipelineTrainable_ee956d74</td><td>RUNNING </td><td>172.17.0.3:38875</td><td style=\"text-align: right;\">0.738177</td><td style=\"text-align: right;\">1.02624e-06</td><td style=\"text-align: right;\">4</td><td style=\"text-align: right;\">2</td><td style=\"text-align: right;\">19</td><td style=\"text-align: right;\">1.59406e-09</td><td style=\"text-align: right;\">1.29462e-05</td><td style=\"text-align: right;\">7.15155</td><td style=\"text-align: right;\">0.238958</td></tr>\n",
       "</tbody>\n",
       "</table>\n",
       "  </div>\n",
       "</div>\n",
       "<style>\n",
       ".tuneStatus {\n",
       "  color: var(--jp-ui-font-color1);\n",
       "}\n",
       ".tuneStatus .systemInfo {\n",
       "  display: flex;\n",
       "  flex-direction: column;\n",
       "}\n",
       ".tuneStatus td {\n",
       "  white-space: nowrap;\n",
       "}\n",
       ".tuneStatus .trialStatus {\n",
       "  display: flex;\n",
       "  flex-direction: column;\n",
       "}\n",
       ".tuneStatus h3 {\n",
       "  font-weight: bold;\n",
       "}\n",
       ".tuneStatus .hDivider {\n",
       "  border-bottom-width: var(--jp-border-width);\n",
       "  border-bottom-color: var(--jp-border-color0);\n",
       "  border-bottom-style: solid;\n",
       "}\n",
       ".tuneStatus .vDivider {\n",
       "  border-left-width: var(--jp-border-width);\n",
       "  border-left-color: var(--jp-border-color0);\n",
       "  border-left-style: solid;\n",
       "  margin: 0.5em 1em 0.5em 1em;\n",
       "}\n",
       "</style>\n"
      ],
      "text/plain": [
       "<IPython.core.display.HTML object>"
      ]
     },
     "metadata": {},
     "output_type": "display_data"
    }
   ],
   "source": [
    "tuned_dt = tune_model(\n",
    "    best, n_iter = 10,optimize = 'auc', search_library = 'tune-sklearn' ,choose_better = True, \n",
    "    search_algorithm = 'bohb',early_stopping = True\n",
    ")\n",
    "\n",
    "print(tuned_dt)"
   ]
  },
  {
   "cell_type": "code",
   "execution_count": null,
   "id": "52cb1c53",
   "metadata": {},
   "outputs": [],
   "source": [
    "tuned_dt.get_all_params()"
   ]
  },
  {
   "cell_type": "code",
   "execution_count": null,
   "id": "03e34c3a",
   "metadata": {},
   "outputs": [],
   "source": [
    "second_tuned = tune_model(best, n_iter = 250,optimize = 'auc',search_library='optuna',choose_better = True)\n",
    "print(second_tuned)"
   ]
  },
  {
   "cell_type": "code",
   "execution_count": null,
   "id": "63d75b27",
   "metadata": {},
   "outputs": [],
   "source": [
    "best = ensemble_model(best, n_estimators = 60,choose_better = True)"
   ]
  },
  {
   "cell_type": "code",
   "execution_count": null,
   "id": "49447c3a",
   "metadata": {},
   "outputs": [],
   "source": [
    "best = ensemble_model(best, n_estimators = 60, method = 'Boosting',choose_better = True)"
   ]
  },
  {
   "cell_type": "code",
   "execution_count": null,
   "id": "17ba84fd",
   "metadata": {},
   "outputs": [],
   "source": [
    "third_tuned = tune_model(best, n_iter = 250,optimize = 'auc',search_library='tune-sklearn',search_algorithm='bayesian',choose_better = True)\n",
    "print(third_tuned)"
   ]
  },
  {
   "cell_type": "code",
   "execution_count": null,
   "id": "b5fc79a1",
   "metadata": {},
   "outputs": [],
   "source": []
  }
 ],
 "metadata": {
  "colab": {
   "provenance": []
  },
  "kernelspec": {
   "display_name": "Python 3 (ipykernel)",
   "language": "python",
   "name": "python3"
  },
  "language_info": {
   "codemirror_mode": {
    "name": "ipython",
    "version": 3
   },
   "file_extension": ".py",
   "mimetype": "text/x-python",
   "name": "python",
   "nbconvert_exporter": "python",
   "pygments_lexer": "ipython3",
   "version": "3.8.10"
  }
 },
 "nbformat": 4,
 "nbformat_minor": 5
}
