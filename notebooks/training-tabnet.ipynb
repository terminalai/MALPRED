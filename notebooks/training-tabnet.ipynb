{
 "cells": [
  {
   "cell_type": "code",
   "execution_count": null,
   "metadata": {},
   "outputs": [],
   "source": [
    "from layers.tabnet import TabNet\n",
    "from utils.constants import CATEGORICAL_FEATURES, NUMERIC_FEATURES, NUM_CATEGORIES, FEATURES\n",
    "from utils.training import training_curve\n",
    "from keras.optimizers import Lion\n",
    "from keras.losses import BinaryCrossentropy\n",
    "from sklearn.preprocessing import OneHotEncoder"
   ]
  },
  {
   "cell_type": "code",
   "execution_count": null,
   "metadata": {},
   "outputs": [],
   "source": [
    "models = []\n",
    "for i in range(5):\n",
    "    tabnet = TabNet(\n",
    "        num_features = len(FEATURES),\n",
    "    )\n",
    "\n",
    "    tabnet.compile(optimizer=Lion(learning_rate=1e-3),\n",
    "                          loss=BinaryCrossentropy(),\n",
    "                          metrics=['accuracy', \"Precision\", \"Recall\", \"AUC\"],\n",
    "                          run_eagerly=True)\n",
    "    models.append(tabnet)"
   ]
  },
  {
   "cell_type": "code",
   "execution_count": null,
   "metadata": {},
   "outputs": [],
   "source": [
    "for i in range(5):\n",
    "    if i != 4:\n",
    "        train_dir = f\"/kaggle/input/mmp-cleaned/fold{i}_train.csv\"\n",
    "        test_dir = f\"/kaggle/input/mmp-cleaned/fold{i}_test.csv\"\n",
    "    else:\n",
    "        train_dir = f\"/kaggle/input/mmp-cleaned-2/fold{i}_train.csv\"\n",
    "        test_dir = f\"/kaggle/input/mmp-cleaned-2/fold{i}_test.csv\"\n",
    "    \n",
    "    history = training_curve(train_dir, test_dir, models[i], one_hot=True)"
   ]
  }
 ],
 "metadata": {
  "language_info": {
   "name": "python"
  },
  "orig_nbformat": 4
 },
 "nbformat": 4,
 "nbformat_minor": 2
}
