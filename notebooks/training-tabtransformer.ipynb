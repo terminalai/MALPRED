{
 "metadata": {
  "kernelspec": {
   "language": "python",
   "display_name": "Python 3",
   "name": "python3"
  },
  "language_info": {
   "name": "python",
   "version": "3.10.12",
   "mimetype": "text/x-python",
   "codemirror_mode": {
    "name": "ipython",
    "version": 3
   },
   "pygments_lexer": "ipython3",
   "nbconvert_exporter": "python",
   "file_extension": ".py"
  }
 },
 "nbformat_minor": 4,
 "nbformat": 4,
 "cells": [
  {
   "cell_type": "code",
   "source": [
    "from layers.tabtransformer import tab_transformer\n",
    "from constants import CATEGORICAL_FEATURES, NUMERIC_FEATURES, NUM_CATEGORIES\n",
    "from training import training_curve"
   ],
   "metadata": {
    "execution": {
     "iopub.status.busy": "2023-08-27T01:25:40.160153Z",
     "iopub.execute_input": "2023-08-27T01:25:40.160941Z",
     "iopub.status.idle": "2023-08-27T01:25:43.706184Z",
     "shell.execute_reply.started": "2023-08-27T01:25:40.160893Z",
     "shell.execute_reply": "2023-08-27T01:25:43.704834Z"
    },
    "trusted": true
   },
   "execution_count": 1,
   "outputs": [
    {
     "name": "stderr",
     "text": "/opt/conda/lib/python3.10/site-packages/scipy/__init__.py:146: UserWarning: A NumPy version >=1.16.5 and <1.23.0 is required for this version of SciPy (detected version 1.23.5\n  warnings.warn(f\"A NumPy version >={np_minversion} and <{np_maxversion}\"\n",
     "output_type": "stream"
    }
   ]
  },
  {
   "cell_type": "code",
   "source": [
    "models = [\n",
    "    tab_transformer(\n",
    "        NUMERIC_FEATURES, CATEGORICAL_FEATURES, NUM_CATEGORIES, heads=8, depth=8, mlp_hidden_factors = [2, 4, 8],\n",
    "        optimizer=\"lion\", learning_rate=1e-4, loss=\"bce\"\n",
    "    ) for i in range(5)\n",
    "]"
   ],
   "metadata": {
    "execution": {
     "iopub.status.busy": "2023-08-27T02:35:45.387498Z",
     "iopub.execute_input": "2023-08-27T02:35:45.387912Z",
     "iopub.status.idle": "2023-08-27T02:35:45.970164Z",
     "shell.execute_reply.started": "2023-08-27T02:35:45.387879Z",
     "shell.execute_reply": "2023-08-27T02:35:45.969052Z"
    },
    "trusted": true
   },
   "execution_count": 9,
   "outputs": []
  },
  {
   "cell_type": "code",
   "source": [
    "for i in range(5):\n",
    "    if i != 4:\n",
    "        train_dir = f\"/kaggle/input/mmp-cleaned/fold{i}_train.csv\"\n",
    "        test_dir = f\"/kaggle/input/mmp-cleaned/fold{i}_test.csv\"\n",
    "    else:\n",
    "        train_dir = f\"/kaggle/input/mmp-cleaned-2/fold{i}_train.csv\"\n",
    "        test_dir = f\"/kaggle/input/mmp-cleaned-2/fold{i}_test.csv\"\n",
    "    \n",
    "    history = training_curve(train_dir, test_dir, models[i])"
   ],
   "metadata": {
    "execution": {
     "iopub.status.busy": "2023-08-27T02:35:45.972062Z",
     "iopub.execute_input": "2023-08-27T02:35:45.972512Z"
    },
    "trusted": true
   },
   "execution_count": null,
   "outputs": [
    {
     "name": "stdout",
     "text": "Epoch 1/20\n  51398/Unknown - 3024s 58ms/step - loss: 0.6507 - accuracy: 0.6025 - precision: 0.6155 - recall: 0.5431 - auc: 0.6518",
     "output_type": "stream"
    }
   ]
  }
 ]
}
